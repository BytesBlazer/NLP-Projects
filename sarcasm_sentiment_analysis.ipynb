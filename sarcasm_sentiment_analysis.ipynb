{
  "nbformat": 4,
  "nbformat_minor": 0,
  "metadata": {
    "colab": {
      "provenance": []
    },
    "kernelspec": {
      "name": "python3",
      "display_name": "Python 3"
    },
    "language_info": {
      "name": "python"
    }
  },
  "cells": [
    {
      "cell_type": "code",
      "execution_count": null,
      "metadata": {
        "id": "daVUhs8Mjw53"
      },
      "outputs": [],
      "source": [
        "!wget --no-check-certificate https://storage.googleapis.com/learning-datasets/bbc-text.csv -O bbc_text.csv"
      ]
    },
    {
      "cell_type": "code",
      "source": [
        "import csv\n",
        "import numpy as np\n",
        "import matplotlib.pyplot as plt\n",
        "from tensorflow.keras import layers\n",
        "from tensorflow.keras.models import Sequential, Model\n",
        "from tensorflow.keras.preprocessing.text import Tokenizer\n",
        "from tensorflow.keras.preprocessing.sequence import pad_sequences"
      ],
      "metadata": {
        "id": "rGHgfarjkwrL"
      },
      "execution_count": null,
      "outputs": []
    },
    {
      "cell_type": "code",
      "source": [
        "stopwords = [\"a\", \"about\", \"above\", \"after\", \"again\", \"against\", \"all\",\n",
        "             \"am\", \"an\", \"and\", \"any\", \"are\", \"as\", \"at\", \"be\", \"because\",\n",
        "             \"been\", \"before\", \"being\", \"below\", \"between\", \"both\", \"but\",\n",
        "             \"by\", \"could\", \"did\", \"do\", \"does\", \"doing\", \"down\", \"during\",\n",
        "             \"each\", \"few\", \"for\", \"from\", \"further\", \"had\", \"has\", \"have\",\n",
        "             \"having\", \"he\", \"he'd\", \"he'll\", \"he's\", \"her\", \"here\", \"here's\",\n",
        "             \"hers\", \"herself\", \"him\", \"himself\", \"his\", \"how\", \"how's\", \"i\",\n",
        "             \"i'd\", \"i'll\", \"i'm\", \"i've\", \"if\", \"in\", \"into\", \"is\", \"it\", \"it's\",\n",
        "             \"its\", \"itself\", \"let's\", \"me\", \"more\", \"most\", \"my\", \"myself\", \"nor\",\n",
        "             \"of\", \"on\", \"once\", \"only\", \"or\", \"other\", \"ought\", \"our\", \"ours\",\n",
        "             \"ourselves\", \"out\", \"over\", \"own\", \"same\", \"she\", \"she'd\", \"she'll\",\n",
        "             \"she's\", \"should\", \"so\", \"some\", \"such\", \"than\", \"that\", \"that's\",\n",
        "             \"the\", \"their\", \"theirs\", \"them\", \"themselves\", \"then\", \"there\",\n",
        "             \"there's\", \"these\", \"they\", \"they'd\", \"they'll\", \"they're\", \"they've\",\n",
        "             \"this\", \"those\", \"through\", \"to\", \"too\", \"under\", \"until\", \"up\",\n",
        "             \"very\", \"was\", \"we\", \"we'd\", \"we'll\", \"we're\", \"we've\", \"were\",\n",
        "             \"what\", \"what's\", \"when\", \"when's\", \"where\", \"where's\", \"which\",\n",
        "             \"while\", \"who\", \"who's\", \"whom\", \"why\", \"why's\", \"with\", \"would\",\n",
        "             \"you\", \"you'd\", \"you'll\", \"you're\", \"you've\", \"your\", \"yours\", \"yourself\", \"yourselves\"]"
      ],
      "metadata": {
        "id": "V9BHDmedldXO"
      },
      "execution_count": null,
      "outputs": []
    },
    {
      "cell_type": "code",
      "source": [
        "sentences = []\n",
        "labels = []\n",
        "\n",
        "with open(\"bbc_text.csv\", \"r\") as file:\n",
        "  texts = csv.reader(file)\n",
        "  next(texts)\n",
        "\n",
        "  for text in texts:\n",
        "    labels.append(text[0])\n",
        "    sentence = text[1]\n",
        "\n",
        "    for word in stopwords:\n",
        "      if word in sentence:\n",
        "        token = \" \" + word + \" \"\n",
        "        sentence = sentence.replace(token, \" \")\n",
        "        sentence = sentence.replace(\"  \", \" \")\n",
        "\n",
        "    sentences.append(sentence)"
      ],
      "metadata": {
        "id": "DQV0z1ZKmE1h"
      },
      "execution_count": null,
      "outputs": []
    },
    {
      "cell_type": "code",
      "source": [
        "train_size = int(len(sentences) * 0.8)\n",
        "\n",
        "train_sentences = sentences[:train_size]\n",
        "train_labels = labels[:train_size]\n",
        "\n",
        "validation_sentences = sentences[train_size:]\n",
        "validation_labels = labels[train_size:]"
      ],
      "metadata": {
        "id": "Wt83TZGL3FqC"
      },
      "execution_count": null,
      "outputs": []
    },
    {
      "cell_type": "code",
      "source": [
        "tokenizer = Tokenizer(num_words=1000, oov_token=\"\")\n",
        "tokenizer.fit_on_texts(train_sentences)\n",
        "word_index = tokenizer.word_index\n",
        "\n",
        "train_sequences = tokenizer.texts_to_sequences(train_sentences)\n",
        "train_padded = pad_sequences(train_sequences, padding=\"post\", maxlen=120)\n",
        "\n",
        "validation_sequences = tokenizer.texts_to_sequences(validation_sentences)\n",
        "validation_padded = pad_sequences(validation_sequences, padding=\"post\", maxlen=120)"
      ],
      "metadata": {
        "id": "JHY1rZe_mHez"
      },
      "execution_count": null,
      "outputs": []
    },
    {
      "cell_type": "code",
      "source": [
        "label_tokenizer = Tokenizer()\n",
        "label_tokenizer.fit_on_texts(labels)\n",
        "\n",
        "label_word_index = label_tokenizer.word_index\n",
        "\n",
        "training_label_seq = np.array(label_tokenizer.texts_to_sequences(train_labels))\n",
        "validation_label_seq = np.array(label_tokenizer.texts_to_sequences(validation_labels))"
      ],
      "metadata": {
        "id": "FRO6DcWpmHbG"
      },
      "execution_count": null,
      "outputs": []
    },
    {
      "cell_type": "code",
      "source": [
        "model = Sequential()\n",
        "\n",
        "model.add(layers.Embedding(1000, 16, input_length=120))\n",
        "model.add(layers.Bidirectional(layers.LSTM(16)))\n",
        "model.add(layers.Dense(16, activation=\"relu\"))\n",
        "model.add(layers.Dense(6, activation=\"softmax\"))\n",
        "\n",
        "model.compile(optimizer=\"adam\", loss=\"sparse_categorical_crossentropy\", metrics=[\"accuracy\"])"
      ],
      "metadata": {
        "id": "gop1-DicmHZL"
      },
      "execution_count": null,
      "outputs": []
    },
    {
      "cell_type": "code",
      "source": [
        "hist = model.fit(train_padded, training_label_seq, epochs=50, validation_data=(validation_padded, validation_label_seq))"
      ],
      "metadata": {
        "colab": {
          "base_uri": "https://localhost:8080/"
        },
        "id": "NSNcviK8mHV2",
        "outputId": "4eaf527c-bc54-474b-a29c-67c7d2972abb"
      },
      "execution_count": null,
      "outputs": [
        {
          "output_type": "stream",
          "name": "stdout",
          "text": [
            "Epoch 1/50\n",
            "56/56 [==============================] - 36s 584ms/step - loss: 1.7370 - accuracy: 0.2028 - val_loss: 1.6642 - val_accuracy: 0.2449\n",
            "Epoch 2/50\n",
            "56/56 [==============================] - 4s 79ms/step - loss: 1.6143 - accuracy: 0.2438 - val_loss: 1.5885 - val_accuracy: 0.2382\n",
            "Epoch 3/50\n",
            "56/56 [==============================] - 6s 99ms/step - loss: 1.4932 - accuracy: 0.3421 - val_loss: 1.6131 - val_accuracy: 0.2562\n",
            "Epoch 4/50\n",
            "56/56 [==============================] - 5s 81ms/step - loss: 1.6364 - accuracy: 0.2972 - val_loss: 1.5762 - val_accuracy: 0.2427\n",
            "Epoch 5/50\n",
            "56/56 [==============================] - 4s 79ms/step - loss: 1.5010 - accuracy: 0.3882 - val_loss: 1.4384 - val_accuracy: 0.3820\n",
            "Epoch 6/50\n",
            "56/56 [==============================] - 6s 104ms/step - loss: 1.2992 - accuracy: 0.5135 - val_loss: 1.1766 - val_accuracy: 0.6404\n",
            "Epoch 7/50\n",
            "56/56 [==============================] - 4s 78ms/step - loss: 1.1285 - accuracy: 0.5758 - val_loss: 1.1080 - val_accuracy: 0.5888\n",
            "Epoch 8/50\n",
            "56/56 [==============================] - 5s 87ms/step - loss: 0.8879 - accuracy: 0.7236 - val_loss: 0.8592 - val_accuracy: 0.6719\n",
            "Epoch 9/50\n",
            "56/56 [==============================] - 5s 87ms/step - loss: 0.8453 - accuracy: 0.7225 - val_loss: 0.8111 - val_accuracy: 0.6944\n",
            "Epoch 10/50\n",
            "56/56 [==============================] - 4s 78ms/step - loss: 0.6449 - accuracy: 0.8017 - val_loss: 0.6480 - val_accuracy: 0.7798\n",
            "Epoch 11/50\n",
            "56/56 [==============================] - 6s 101ms/step - loss: 0.5055 - accuracy: 0.8635 - val_loss: 0.6012 - val_accuracy: 0.7775\n",
            "Epoch 12/50\n",
            "56/56 [==============================] - 4s 79ms/step - loss: 0.4360 - accuracy: 0.8747 - val_loss: 0.5436 - val_accuracy: 0.7978\n",
            "Epoch 13/50\n",
            "56/56 [==============================] - 4s 77ms/step - loss: 0.3561 - accuracy: 0.9107 - val_loss: 0.5699 - val_accuracy: 0.8225\n",
            "Epoch 14/50\n",
            "56/56 [==============================] - 6s 99ms/step - loss: 0.3226 - accuracy: 0.9062 - val_loss: 0.5326 - val_accuracy: 0.8135\n",
            "Epoch 15/50\n",
            "56/56 [==============================] - 4s 79ms/step - loss: 0.2423 - accuracy: 0.9343 - val_loss: 0.3967 - val_accuracy: 0.8831\n",
            "Epoch 16/50\n",
            "56/56 [==============================] - 5s 94ms/step - loss: 0.1865 - accuracy: 0.9494 - val_loss: 0.4201 - val_accuracy: 0.8719\n",
            "Epoch 17/50\n",
            "56/56 [==============================] - 5s 84ms/step - loss: 0.1271 - accuracy: 0.9725 - val_loss: 0.4246 - val_accuracy: 0.8787\n",
            "Epoch 18/50\n",
            "56/56 [==============================] - 4s 78ms/step - loss: 0.1251 - accuracy: 0.9702 - val_loss: 0.4359 - val_accuracy: 0.8719\n",
            "Epoch 19/50\n",
            "56/56 [==============================] - 6s 108ms/step - loss: 0.0954 - accuracy: 0.9770 - val_loss: 0.4056 - val_accuracy: 0.8854\n",
            "Epoch 20/50\n",
            "56/56 [==============================] - 4s 79ms/step - loss: 0.0769 - accuracy: 0.9848 - val_loss: 0.4457 - val_accuracy: 0.8764\n",
            "Epoch 21/50\n",
            "56/56 [==============================] - 5s 84ms/step - loss: 0.0591 - accuracy: 0.9882 - val_loss: 0.3978 - val_accuracy: 0.8921\n",
            "Epoch 22/50\n",
            "56/56 [==============================] - 5s 94ms/step - loss: 0.0683 - accuracy: 0.9826 - val_loss: 0.3975 - val_accuracy: 0.8921\n",
            "Epoch 23/50\n",
            "56/56 [==============================] - 5s 83ms/step - loss: 0.0653 - accuracy: 0.9820 - val_loss: 0.3595 - val_accuracy: 0.8809\n",
            "Epoch 24/50\n",
            "56/56 [==============================] - 6s 104ms/step - loss: 0.0426 - accuracy: 0.9916 - val_loss: 0.4264 - val_accuracy: 0.8854\n",
            "Epoch 25/50\n",
            "56/56 [==============================] - 4s 79ms/step - loss: 0.0476 - accuracy: 0.9893 - val_loss: 0.4079 - val_accuracy: 0.8966\n",
            "Epoch 26/50\n",
            "56/56 [==============================] - 4s 76ms/step - loss: 0.0263 - accuracy: 0.9966 - val_loss: 0.3936 - val_accuracy: 0.9034\n",
            "Epoch 27/50\n",
            "56/56 [==============================] - 6s 102ms/step - loss: 0.0199 - accuracy: 0.9972 - val_loss: 0.4082 - val_accuracy: 0.8966\n",
            "Epoch 28/50\n",
            "56/56 [==============================] - 4s 78ms/step - loss: 0.0169 - accuracy: 0.9978 - val_loss: 0.4425 - val_accuracy: 0.8921\n",
            "Epoch 29/50\n",
            "56/56 [==============================] - 6s 101ms/step - loss: 0.0150 - accuracy: 0.9978 - val_loss: 0.4593 - val_accuracy: 0.8876\n",
            "Epoch 30/50\n",
            "56/56 [==============================] - 4s 79ms/step - loss: 0.0140 - accuracy: 0.9978 - val_loss: 0.4551 - val_accuracy: 0.8899\n",
            "Epoch 31/50\n",
            "56/56 [==============================] - 5s 81ms/step - loss: 0.0137 - accuracy: 0.9978 - val_loss: 0.4393 - val_accuracy: 0.8989\n",
            "Epoch 32/50\n",
            "56/56 [==============================] - 6s 102ms/step - loss: 0.0114 - accuracy: 0.9978 - val_loss: 0.4368 - val_accuracy: 0.8989\n",
            "Epoch 33/50\n",
            "56/56 [==============================] - 4s 79ms/step - loss: 0.0106 - accuracy: 0.9978 - val_loss: 0.4137 - val_accuracy: 0.8989\n",
            "Epoch 34/50\n",
            "56/56 [==============================] - 5s 94ms/step - loss: 0.0092 - accuracy: 0.9983 - val_loss: 0.4162 - val_accuracy: 0.9034\n",
            "Epoch 35/50\n",
            "56/56 [==============================] - 5s 87ms/step - loss: 0.0081 - accuracy: 0.9983 - val_loss: 0.4451 - val_accuracy: 0.8899\n",
            "Epoch 36/50\n",
            "56/56 [==============================] - 4s 76ms/step - loss: 0.0069 - accuracy: 0.9983 - val_loss: 0.4549 - val_accuracy: 0.8944\n",
            "Epoch 37/50\n",
            "56/56 [==============================] - 6s 105ms/step - loss: 0.0059 - accuracy: 0.9989 - val_loss: 0.4474 - val_accuracy: 0.8989\n",
            "Epoch 38/50\n",
            "56/56 [==============================] - 4s 76ms/step - loss: 0.0046 - accuracy: 0.9994 - val_loss: 0.4771 - val_accuracy: 0.8989\n",
            "Epoch 39/50\n",
            "56/56 [==============================] - 4s 76ms/step - loss: 0.0038 - accuracy: 1.0000 - val_loss: 0.4803 - val_accuracy: 0.8989\n",
            "Epoch 40/50\n",
            "56/56 [==============================] - 6s 103ms/step - loss: 0.0032 - accuracy: 1.0000 - val_loss: 0.5130 - val_accuracy: 0.8944\n",
            "Epoch 41/50\n",
            "56/56 [==============================] - 4s 78ms/step - loss: 0.0999 - accuracy: 0.9685 - val_loss: 0.4083 - val_accuracy: 0.8719\n",
            "Epoch 42/50\n",
            "56/56 [==============================] - 5s 98ms/step - loss: 0.0201 - accuracy: 0.9949 - val_loss: 0.4894 - val_accuracy: 0.9011\n",
            "Epoch 43/50\n",
            "56/56 [==============================] - 5s 80ms/step - loss: 0.0501 - accuracy: 0.9871 - val_loss: 0.6218 - val_accuracy: 0.8742\n",
            "Epoch 44/50\n",
            "56/56 [==============================] - 4s 75ms/step - loss: 0.0203 - accuracy: 0.9966 - val_loss: 0.5048 - val_accuracy: 0.8921\n",
            "Epoch 45/50\n",
            "56/56 [==============================] - 6s 102ms/step - loss: 0.0093 - accuracy: 0.9989 - val_loss: 0.4826 - val_accuracy: 0.8876\n",
            "Epoch 46/50\n",
            "56/56 [==============================] - 5s 81ms/step - loss: 0.0309 - accuracy: 0.9904 - val_loss: 1.0127 - val_accuracy: 0.8202\n",
            "Epoch 47/50\n",
            "56/56 [==============================] - 5s 82ms/step - loss: 0.0598 - accuracy: 0.9848 - val_loss: 0.4413 - val_accuracy: 0.8876\n",
            "Epoch 48/50\n",
            "56/56 [==============================] - 5s 94ms/step - loss: 0.0096 - accuracy: 0.9989 - val_loss: 0.4275 - val_accuracy: 0.8989\n",
            "Epoch 49/50\n",
            "56/56 [==============================] - 4s 79ms/step - loss: 0.0150 - accuracy: 0.9972 - val_loss: 0.4554 - val_accuracy: 0.8921\n",
            "Epoch 50/50\n",
            "56/56 [==============================] - 6s 99ms/step - loss: 0.0034 - accuracy: 1.0000 - val_loss: 0.4949 - val_accuracy: 0.8966\n"
          ]
        }
      ]
    },
    {
      "cell_type": "code",
      "source": [
        "plt.plot(hist.history[\"accuracy\"])\n",
        "plt.plot(hist.history[\"val_accuracy\"])\n",
        "plt.xlabel(\"epoch\")\n",
        "plt.ylabel(\"accuracy\")\n",
        "plt.legend([\"accuracy\", \"val_accuracy\"])"
      ],
      "metadata": {
        "colab": {
          "base_uri": "https://localhost:8080/",
          "height": 466
        },
        "id": "Q2Dbl3_smHTP",
        "outputId": "8e0575b1-641a-48aa-9028-267a338e10c9"
      },
      "execution_count": null,
      "outputs": [
        {
          "output_type": "execute_result",
          "data": {
            "text/plain": [
              "<matplotlib.legend.Legend at 0x7f81baa0be80>"
            ]
          },
          "metadata": {},
          "execution_count": 103
        },
        {
          "output_type": "display_data",
          "data": {
            "text/plain": [
              "<Figure size 640x480 with 1 Axes>"
            ],
            "image/png": "[encoded data removed]"
          },
          "metadata": {}
        }
      ]
    },
    {
      "cell_type": "code",
      "source": [],
      "metadata": {
        "id": "aeMTFZz1mHPn"
      },
      "execution_count": null,
      "outputs": []
    },
    {
      "cell_type": "code",
      "source": [],
      "metadata": {
        "id": "P4Mt2zlamHLA"
      },
      "execution_count": null,
      "outputs": []
    },
    {
      "cell_type": "code",
      "source": [],
      "metadata": {
        "id": "G7PTV3OmmHH6"
      },
      "execution_count": null,
      "outputs": []
    },
    {
      "cell_type": "code",
      "source": [],
      "metadata": {
        "id": "jAA26yLNmG_-"
      },
      "execution_count": null,
      "outputs": []
    }
  ]
}