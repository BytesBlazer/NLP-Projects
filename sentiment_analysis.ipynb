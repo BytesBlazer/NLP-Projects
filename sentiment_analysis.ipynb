{
  "nbformat": 4,
  "nbformat_minor": 0,
  "metadata": {
    "colab": {
      "provenance": []
    },
    "kernelspec": {
      "name": "python3",
      "display_name": "Python 3"
    },
    "language_info": {
      "name": "python"
    },
    "accelerator": "GPU",
    "gpuClass": "standard"
  },
  "cells": [
    {
      "cell_type": "code",
      "execution_count": null,
      "metadata": {
        "id": "uQ4JjE6EZmpV"
      },
      "outputs": [],
      "source": [
        "import json\n",
        "import numpy as np\n",
        "import matplotlib.pyplot as plt\n",
        "from tensorflow.keras import layers\n",
        "from tensorflow.keras.models import Model, Sequential\n",
        "from tensorflow.keras.preprocessing.text import Tokenizer\n",
        "from tensorflow.keras.preprocessing.sequence import pad_sequences"
      ]
    },
    {
      "cell_type": "code",
      "source": [
        "!wget --no-check-certificate https://storage.googleapis.com/learning-datasets/sarcasm.json -O sarcasm.json"
      ],
      "metadata": {
        "id": "kAabr_Q_aJ20",
        "colab": {
          "base_uri": "https://localhost:8080/"
        },
        "outputId": "17a5bbd9-4b4a-4e22-98d5-f61378abffe8"
      },
      "execution_count": null,
      "outputs": [
        {
          "output_type": "stream",
          "name": "stdout",
          "text": [
            "--2023-04-21 16:13:45--  https://storage.googleapis.com/learning-datasets/sarcasm.json\n",
            "Resolving storage.googleapis.com (storage.googleapis.com)... 108.177.119.128, 108.177.126.128, 172.217.218.128, ...\n",
            "Connecting to storage.googleapis.com (storage.googleapis.com)|108.177.119.128|:443... connected.\n",
            "HTTP request sent, awaiting response... 200 OK\n",
            "Length: 5643545 (5.4M) [application/json]\n",
            "Saving to: ‘sarcasm.json’\n",
            "\n",
            "sarcasm.json        100%[===================>]   5.38M  14.9MB/s    in 0.4s    \n",
            "\n",
            "2023-04-21 16:13:46 (14.9 MB/s) - ‘sarcasm.json’ saved [5643545/5643545]\n",
            "\n"
          ]
        }
      ]
    },
    {
      "cell_type": "code",
      "source": [
        "with open(\"sarcasm.json\", \"r\") as file:\n",
        "  texts = json.load(file)"
      ],
      "metadata": {
        "id": "DqYkFqZHacNU"
      },
      "execution_count": null,
      "outputs": []
    },
    {
      "cell_type": "code",
      "source": [
        "sentences = []\n",
        "labels = []\n",
        "links = []\n",
        "\n",
        "for row in texts:\n",
        "  sentences.append(row[\"headline\"])\n",
        "  labels.append(row[\"is_sarcastic\"])\n",
        "  links.append(row[\"article_link\"])\n"
      ],
      "metadata": {
        "id": "TqckbqK_apCo"
      },
      "execution_count": null,
      "outputs": []
    },
    {
      "cell_type": "code",
      "source": [
        "train_size = int(len(sentences) * 0.8)\n",
        "\n",
        "x_train = sentences[:train_size]\n",
        "y_train = np.array(labels[:train_size])\n",
        "\n",
        "x_test = sentences[train_size:]\n",
        "y_test = np.array(labels[train_size:])\n",
        "\n",
        "tokenizer = Tokenizer(num_words=5000, oov_token=\"<OOV>\")\n",
        "tokenizer.fit_on_texts(x_train)\n",
        "word_index = tokenizer.word_index\n",
        "\n",
        "x_train = tokenizer.texts_to_sequences(x_train)\n",
        "x_test = tokenizer.texts_to_sequences(x_test)\n",
        "\n",
        "VOCAB_SIZE = 20000\n",
        "EMBEDDING_DIM = 8\n",
        "MAX_LENGTH = 120\n",
        "\n",
        "train_padded = pad_sequences(x_train, padding=\"post\", truncating=\"post\", maxlen=MAX_LENGTH)\n",
        "test_padded = pad_sequences(x_test, padding=\"post\", truncating=\"post\", maxlen=MAX_LENGTH)"
      ],
      "metadata": {
        "id": "yA4eK8q6ao5L"
      },
      "execution_count": null,
      "outputs": []
    },
    {
      "cell_type": "code",
      "source": [
        "model = Sequential()\n",
        "\n",
        "model.add(layers.Embedding(VOCAB_SIZE, EMBEDDING_DIM, input_length=MAX_LENGTH))\n",
        "model.add(layers.Flatten())\n",
        "model.add(layers.Dense(10, activation=\"relu\"))\n",
        "model.add(layers.Dense(1, activation=\"sigmoid\"))\n",
        "\n",
        "model.compile(optimizer=\"adam\", loss=\"mse\", metrics=[\"accuracy\"])"
      ],
      "metadata": {
        "id": "dxfs03l6MQXj"
      },
      "execution_count": null,
      "outputs": []
    },
    {
      "cell_type": "code",
      "source": [
        "history = model.fit(train_padded, y_train, epochs=10, validation_data=(test_padded, y_test))"
      ],
      "metadata": {
        "colab": {
          "base_uri": "https://localhost:8080/"
        },
        "id": "1hzz3ePYMQOK",
        "outputId": "6ed0e62d-0580-4828-8313-f56c545d81c2"
      },
      "execution_count": null,
      "outputs": [
        {
          "output_type": "stream",
          "name": "stdout",
          "text": [
            "Epoch 1/10\n",
            "668/668 [==============================] - 19s 27ms/step - loss: 0.1671 - accuracy: 0.7499 - val_loss: 0.1116 - val_accuracy: 0.8443\n",
            "Epoch 2/10\n",
            "668/668 [==============================] - 5s 8ms/step - loss: 0.0830 - accuracy: 0.8907 - val_loss: 0.1012 - val_accuracy: 0.8574\n",
            "Epoch 3/10\n",
            "668/668 [==============================] - 3s 5ms/step - loss: 0.0608 - accuracy: 0.9228 - val_loss: 0.1017 - val_accuracy: 0.8555\n",
            "Epoch 4/10\n",
            "668/668 [==============================] - 4s 6ms/step - loss: 0.0466 - accuracy: 0.9450 - val_loss: 0.1045 - val_accuracy: 0.8555\n",
            "Epoch 5/10\n",
            "668/668 [==============================] - 4s 6ms/step - loss: 0.0352 - accuracy: 0.9617 - val_loss: 0.1100 - val_accuracy: 0.8502\n",
            "Epoch 6/10\n",
            "668/668 [==============================] - 3s 5ms/step - loss: 0.0262 - accuracy: 0.9724 - val_loss: 0.1148 - val_accuracy: 0.8487\n",
            "Epoch 7/10\n",
            "668/668 [==============================] - 3s 5ms/step - loss: 0.0193 - accuracy: 0.9814 - val_loss: 0.1191 - val_accuracy: 0.8439\n",
            "Epoch 8/10\n",
            "668/668 [==============================] - 4s 6ms/step - loss: 0.0143 - accuracy: 0.9870 - val_loss: 0.1233 - val_accuracy: 0.8422\n",
            "Epoch 9/10\n",
            "668/668 [==============================] - 3s 5ms/step - loss: 0.0108 - accuracy: 0.9902 - val_loss: 0.1266 - val_accuracy: 0.8409\n",
            "Epoch 10/10\n",
            "668/668 [==============================] - 3s 4ms/step - loss: 0.0085 - accuracy: 0.9918 - val_loss: 0.1283 - val_accuracy: 0.8439\n"
          ]
        }
      ]
    },
    {
      "cell_type": "code",
      "source": [
        "plt.plot(history.history[\"accuracy\"])\n",
        "plt.plot(history.history[\"val_accuracy\"])"
      ],
      "metadata": {
        "id": "8Pgy5RFPOk5V",
        "colab": {
          "base_uri": "https://localhost:8080/",
          "height": 447
        },
        "outputId": "87cf3458-2871-40d0-b3ce-508fac5ea1d6"
      },
      "execution_count": null,
      "outputs": [
        {
          "output_type": "execute_result",
          "data": {
            "text/plain": [
              "[<matplotlib.lines.Line2D at 0x7f9814e92c40>]"
            ]
          },
          "metadata": {},
          "execution_count": 22
        },
        {
          "output_type": "display_data",
          "data": {
            "text/plain": [
              "<Figure size 640x480 with 1 Axes>"
            ],
            "image/png": "[encoded data removed]"
          },
          "metadata": {}
        }
      ]
    },
    {
      "cell_type": "code",
      "source": [
        "lstm_model = Sequential()\n",
        "\n",
        "lstm_model.add(layers.Embedding(VOCAB_SIZE, EMBEDDING_DIM, input_length=MAX_LENGTH))\n",
        "lstm_model.add(layers.Bidirectional(layers.LSTM(8)))\n",
        "lstm_model.add(layers.Dense(8, activation=\"relu\"))\n",
        "lstm_model.add(layers.Dense(1, activation=\"sigmoid\"))\n",
        "\n",
        "lstm_model.compile(optimizer=\"adam\", loss=\"mse\", metrics=[\"accuracy\"])"
      ],
      "metadata": {
        "id": "bXI1SZN5eVP9"
      },
      "execution_count": null,
      "outputs": []
    },
    {
      "cell_type": "code",
      "source": [
        "history_2 = lstm_model.fit(train_padded, y_train, epochs=10, validation_data=(test_padded, y_test))"
      ],
      "metadata": {
        "colab": {
          "base_uri": "https://localhost:8080/"
        },
        "id": "hCf8yrq1gdKe",
        "outputId": "b3827396-b009-452b-b063-34711dd4edc3"
      },
      "execution_count": null,
      "outputs": [
        {
          "output_type": "stream",
          "name": "stdout",
          "text": [
            "Epoch 1/10\n",
            "668/668 [==============================] - 25s 30ms/step - loss: 0.1439 - accuracy: 0.7843 - val_loss: 0.1076 - val_accuracy: 0.8482\n",
            "Epoch 2/10\n",
            "668/668 [==============================] - 11s 16ms/step - loss: 0.0807 - accuracy: 0.8918 - val_loss: 0.1086 - val_accuracy: 0.8499\n",
            "Epoch 3/10\n",
            "668/668 [==============================] - 10s 15ms/step - loss: 0.0628 - accuracy: 0.9190 - val_loss: 0.1117 - val_accuracy: 0.8512\n",
            "Epoch 4/10\n",
            "668/668 [==============================] - 10s 15ms/step - loss: 0.0499 - accuracy: 0.9397 - val_loss: 0.1192 - val_accuracy: 0.8448\n",
            "Epoch 5/10\n",
            "668/668 [==============================] - 10s 15ms/step - loss: 0.0401 - accuracy: 0.9521 - val_loss: 0.1259 - val_accuracy: 0.8429\n",
            "Epoch 6/10\n",
            "668/668 [==============================] - 9s 13ms/step - loss: 0.0329 - accuracy: 0.9623 - val_loss: 0.1297 - val_accuracy: 0.8433\n",
            "Epoch 7/10\n",
            "668/668 [==============================] - 10s 15ms/step - loss: 0.0283 - accuracy: 0.9689 - val_loss: 0.1371 - val_accuracy: 0.8371\n",
            "Epoch 8/10\n",
            "668/668 [==============================] - 10s 15ms/step - loss: 0.0247 - accuracy: 0.9731 - val_loss: 0.1434 - val_accuracy: 0.8336\n",
            "Epoch 9/10\n",
            "668/668 [==============================] - 10s 15ms/step - loss: 0.0221 - accuracy: 0.9761 - val_loss: 0.1424 - val_accuracy: 0.8336\n",
            "Epoch 10/10\n",
            "668/668 [==============================] - 9s 13ms/step - loss: 0.0205 - accuracy: 0.9778 - val_loss: 0.1508 - val_accuracy: 0.8304\n"
          ]
        }
      ]
    },
    {
      "cell_type": "code",
      "source": [
        "plt.plot(history_2.history[\"accuracy\"])\n",
        "plt.plot(history_2.history[\"val_accuracy\"])"
      ],
      "metadata": {
        "colab": {
          "base_uri": "https://localhost:8080/",
          "height": 447
        },
        "id": "cKQordkogy1R",
        "outputId": "152e16a9-c7ba-47d7-bc71-8f2f557f75ef"
      },
      "execution_count": null,
      "outputs": [
        {
          "output_type": "execute_result",
          "data": {
            "text/plain": [
              "[<matplotlib.lines.Line2D at 0x7f98024312b0>]"
            ]
          },
          "metadata": {},
          "execution_count": 18
        },
        {
          "output_type": "display_data",
          "data": {
            "text/plain": [
              "<Figure size 640x480 with 1 Axes>"
            ],
            "image/png": "[encoded data removed]"
          },
          "metadata": {}
        }
      ]
    },
    {
      "cell_type": "code",
      "source": [
        "conv_model = Sequential()\n",
        "\n",
        "conv_model.add(layers.Embedding(VOCAB_SIZE, EMBEDDING_DIM, input_length=MAX_LENGTH))\n",
        "conv_model.add(layers.Conv1D(16, 5))\n",
        "conv_model.add(layers.GlobalAveragePooling1D())\n",
        "conv_model.add(layers.Dense(10, activation=\"relu\"))\n",
        "conv_model.add(layers.Dense(1, activation=\"sigmoid\"))\n",
        "\n",
        "conv_model.compile(optimizer=\"adam\", loss=\"mse\", metrics=[\"accuracy\"])"
      ],
      "metadata": {
        "id": "2kUrvj4AlfiJ"
      },
      "execution_count": null,
      "outputs": []
    },
    {
      "cell_type": "code",
      "source": [
        "history_3 = conv_model.fit(train_padded, y_train, epochs=50, validation_data=(test_padded, y_test))"
      ],
      "metadata": {
        "colab": {
          "base_uri": "https://localhost:8080/"
        },
        "id": "v-U-H-ZnqndB",
        "outputId": "bd17020f-790a-4cca-f020-a410e2971228"
      },
      "execution_count": null,
      "outputs": [
        {
          "output_type": "stream",
          "name": "stdout",
          "text": [
            "Epoch 1/50\n",
            "668/668 [==============================] - 17s 23ms/step - loss: 0.2156 - accuracy: 0.6407 - val_loss: 0.1463 - val_accuracy: 0.8006\n",
            "Epoch 2/50\n",
            "668/668 [==============================] - 5s 7ms/step - loss: 0.1223 - accuracy: 0.8307 - val_loss: 0.1244 - val_accuracy: 0.8253\n",
            "Epoch 3/50\n",
            "668/668 [==============================] - 5s 8ms/step - loss: 0.0984 - accuracy: 0.8668 - val_loss: 0.1199 - val_accuracy: 0.8321\n",
            "Epoch 4/50\n",
            "668/668 [==============================] - 4s 6ms/step - loss: 0.0857 - accuracy: 0.8852 - val_loss: 0.1188 - val_accuracy: 0.8349\n",
            "Epoch 5/50\n",
            "668/668 [==============================] - 4s 6ms/step - loss: 0.0762 - accuracy: 0.9014 - val_loss: 0.1202 - val_accuracy: 0.8351\n",
            "Epoch 6/50\n",
            "668/668 [==============================] - 5s 7ms/step - loss: 0.0690 - accuracy: 0.9117 - val_loss: 0.1220 - val_accuracy: 0.8364\n",
            "Epoch 7/50\n",
            "668/668 [==============================] - 4s 6ms/step - loss: 0.0633 - accuracy: 0.9197 - val_loss: 0.1244 - val_accuracy: 0.8362\n",
            "Epoch 8/50\n",
            "668/668 [==============================] - 3s 5ms/step - loss: 0.0578 - accuracy: 0.9288 - val_loss: 0.1267 - val_accuracy: 0.8343\n",
            "Epoch 9/50\n",
            "668/668 [==============================] - 5s 7ms/step - loss: 0.0536 - accuracy: 0.9343 - val_loss: 0.1304 - val_accuracy: 0.8308\n",
            "Epoch 10/50\n",
            "668/668 [==============================] - 3s 5ms/step - loss: 0.0483 - accuracy: 0.9416 - val_loss: 0.1348 - val_accuracy: 0.8291\n",
            "Epoch 11/50\n",
            "668/668 [==============================] - 3s 5ms/step - loss: 0.0442 - accuracy: 0.9478 - val_loss: 0.1324 - val_accuracy: 0.8336\n",
            "Epoch 12/50\n",
            "668/668 [==============================] - 4s 6ms/step - loss: 0.0416 - accuracy: 0.9514 - val_loss: 0.1356 - val_accuracy: 0.8328\n",
            "Epoch 13/50\n",
            "668/668 [==============================] - 4s 6ms/step - loss: 0.0375 - accuracy: 0.9561 - val_loss: 0.1371 - val_accuracy: 0.8343\n",
            "Epoch 14/50\n",
            "668/668 [==============================] - 3s 5ms/step - loss: 0.0348 - accuracy: 0.9606 - val_loss: 0.1420 - val_accuracy: 0.8295\n",
            "Epoch 15/50\n",
            "668/668 [==============================] - 4s 6ms/step - loss: 0.0337 - accuracy: 0.9622 - val_loss: 0.1538 - val_accuracy: 0.8184\n",
            "Epoch 16/50\n",
            "668/668 [==============================] - 5s 7ms/step - loss: 0.0325 - accuracy: 0.9628 - val_loss: 0.1433 - val_accuracy: 0.8317\n",
            "Epoch 17/50\n",
            "668/668 [==============================] - 3s 5ms/step - loss: 0.0295 - accuracy: 0.9675 - val_loss: 0.1451 - val_accuracy: 0.8300\n",
            "Epoch 18/50\n",
            "668/668 [==============================] - 3s 5ms/step - loss: 0.0277 - accuracy: 0.9700 - val_loss: 0.1492 - val_accuracy: 0.8246\n",
            "Epoch 19/50\n",
            "668/668 [==============================] - 4s 6ms/step - loss: 0.0261 - accuracy: 0.9720 - val_loss: 0.1497 - val_accuracy: 0.8259\n",
            "Epoch 20/50\n",
            "668/668 [==============================] - 3s 5ms/step - loss: 0.0273 - accuracy: 0.9695 - val_loss: 0.1553 - val_accuracy: 0.8203\n",
            "Epoch 21/50\n",
            "668/668 [==============================] - 3s 5ms/step - loss: 0.0247 - accuracy: 0.9734 - val_loss: 0.1513 - val_accuracy: 0.8257\n",
            "Epoch 22/50\n",
            "668/668 [==============================] - 3s 5ms/step - loss: 0.0242 - accuracy: 0.9738 - val_loss: 0.1568 - val_accuracy: 0.8216\n",
            "Epoch 23/50\n",
            "668/668 [==============================] - 4s 7ms/step - loss: 0.0229 - accuracy: 0.9754 - val_loss: 0.1553 - val_accuracy: 0.8246\n",
            "Epoch 24/50\n",
            "668/668 [==============================] - 4s 6ms/step - loss: 0.0223 - accuracy: 0.9763 - val_loss: 0.1569 - val_accuracy: 0.8240\n",
            "Epoch 25/50\n",
            "668/668 [==============================] - 4s 6ms/step - loss: 0.0211 - accuracy: 0.9779 - val_loss: 0.1567 - val_accuracy: 0.8225\n",
            "Epoch 26/50\n",
            "668/668 [==============================] - 5s 7ms/step - loss: 0.0204 - accuracy: 0.9784 - val_loss: 0.1559 - val_accuracy: 0.8253\n",
            "Epoch 27/50\n",
            "668/668 [==============================] - 4s 6ms/step - loss: 0.0213 - accuracy: 0.9776 - val_loss: 0.1572 - val_accuracy: 0.8242\n",
            "Epoch 28/50\n",
            "668/668 [==============================] - 4s 5ms/step - loss: 0.0197 - accuracy: 0.9796 - val_loss: 0.1608 - val_accuracy: 0.8209\n",
            "Epoch 29/50\n",
            "668/668 [==============================] - 4s 7ms/step - loss: 0.0196 - accuracy: 0.9796 - val_loss: 0.1644 - val_accuracy: 0.8201\n",
            "Epoch 30/50\n",
            "668/668 [==============================] - 3s 5ms/step - loss: 0.0192 - accuracy: 0.9799 - val_loss: 0.1617 - val_accuracy: 0.8227\n",
            "Epoch 31/50\n",
            "668/668 [==============================] - 4s 6ms/step - loss: 0.0195 - accuracy: 0.9797 - val_loss: 0.1662 - val_accuracy: 0.8177\n",
            "Epoch 32/50\n",
            "668/668 [==============================] - 4s 6ms/step - loss: 0.0182 - accuracy: 0.9811 - val_loss: 0.1627 - val_accuracy: 0.8220\n",
            "Epoch 33/50\n",
            "668/668 [==============================] - 4s 6ms/step - loss: 0.0176 - accuracy: 0.9816 - val_loss: 0.1634 - val_accuracy: 0.8199\n",
            "Epoch 34/50\n",
            "668/668 [==============================] - 4s 6ms/step - loss: 0.0174 - accuracy: 0.9819 - val_loss: 0.1630 - val_accuracy: 0.8222\n",
            "Epoch 35/50\n",
            "668/668 [==============================] - 4s 6ms/step - loss: 0.0179 - accuracy: 0.9812 - val_loss: 0.1624 - val_accuracy: 0.8203\n",
            "Epoch 36/50\n",
            "668/668 [==============================] - 4s 6ms/step - loss: 0.0169 - accuracy: 0.9823 - val_loss: 0.1649 - val_accuracy: 0.8199\n",
            "Epoch 37/50\n",
            "668/668 [==============================] - 3s 5ms/step - loss: 0.0165 - accuracy: 0.9832 - val_loss: 0.1616 - val_accuracy: 0.8237\n",
            "Epoch 38/50\n",
            "668/668 [==============================] - 3s 5ms/step - loss: 0.0159 - accuracy: 0.9837 - val_loss: 0.1665 - val_accuracy: 0.8190\n",
            "Epoch 39/50\n",
            "668/668 [==============================] - 4s 6ms/step - loss: 0.0157 - accuracy: 0.9840 - val_loss: 0.1737 - val_accuracy: 0.8130\n",
            "Epoch 40/50\n",
            "668/668 [==============================] - 4s 5ms/step - loss: 0.0172 - accuracy: 0.9814 - val_loss: 0.1616 - val_accuracy: 0.8218\n",
            "Epoch 41/50\n",
            "668/668 [==============================] - 3s 5ms/step - loss: 0.0158 - accuracy: 0.9833 - val_loss: 0.1742 - val_accuracy: 0.8137\n",
            "Epoch 42/50\n",
            "668/668 [==============================] - 4s 6ms/step - loss: 0.0167 - accuracy: 0.9822 - val_loss: 0.1651 - val_accuracy: 0.8197\n",
            "Epoch 43/50\n",
            "668/668 [==============================] - 4s 6ms/step - loss: 0.0152 - accuracy: 0.9839 - val_loss: 0.1644 - val_accuracy: 0.8237\n",
            "Epoch 44/50\n",
            "668/668 [==============================] - 3s 5ms/step - loss: 0.0152 - accuracy: 0.9843 - val_loss: 0.1649 - val_accuracy: 0.8203\n",
            "Epoch 45/50\n",
            "668/668 [==============================] - 3s 5ms/step - loss: 0.0150 - accuracy: 0.9846 - val_loss: 0.1655 - val_accuracy: 0.8186\n",
            "Epoch 46/50\n",
            "668/668 [==============================] - 4s 6ms/step - loss: 0.0161 - accuracy: 0.9830 - val_loss: 0.1706 - val_accuracy: 0.8164\n",
            "Epoch 47/50\n",
            "668/668 [==============================] - 3s 5ms/step - loss: 0.0151 - accuracy: 0.9842 - val_loss: 0.1656 - val_accuracy: 0.8197\n",
            "Epoch 48/50\n",
            "668/668 [==============================] - 4s 5ms/step - loss: 0.0143 - accuracy: 0.9852 - val_loss: 0.1657 - val_accuracy: 0.8214\n",
            "Epoch 49/50\n",
            "668/668 [==============================] - 4s 6ms/step - loss: 0.0142 - accuracy: 0.9856 - val_loss: 0.1655 - val_accuracy: 0.8222\n",
            "Epoch 50/50\n",
            "668/668 [==============================] - 4s 5ms/step - loss: 0.0145 - accuracy: 0.9852 - val_loss: 0.1640 - val_accuracy: 0.8237\n"
          ]
        }
      ]
    },
    {
      "cell_type": "code",
      "source": [
        "plt.plot(history_3.history[\"accuracy\"])\n",
        "plt.plot(history_3.history[\"val_accuracy\"])"
      ],
      "metadata": {
        "colab": {
          "base_uri": "https://localhost:8080/",
          "height": 450
        },
        "id": "QNag7wdWqq1A",
        "outputId": "f34fa37c-6272-4771-9fca-b2842b685620"
      },
      "execution_count": null,
      "outputs": [
        {
          "output_type": "execute_result",
          "data": {
            "text/plain": [
              "[<matplotlib.lines.Line2D at 0x7f981cc599a0>]"
            ]
          },
          "metadata": {},
          "execution_count": 30
        },
        {
          "output_type": "display_data",
          "data": {
            "text/plain": [
              "<Figure size 640x480 with 1 Axes>"
            ],
            "image/png": "[encoded data removed]"
          },
          "metadata": {}
        }
      ]
    },
    {
      "cell_type": "code",
      "source": [],
      "metadata": {
        "id": "cwmLNk0Mrkyq"
      },
      "execution_count": null,
      "outputs": []
    }
  ]
}